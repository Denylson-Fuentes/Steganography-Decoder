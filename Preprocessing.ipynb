{
 "cells": [
  {
   "cell_type": "markdown",
   "id": "418619d6-ec3d-485e-98d2-bdaaf451269f",
   "metadata": {},
   "source": [
    "# Proprocessing Data #"
   ]
  },
  {
   "cell_type": "markdown",
   "id": "9f913d9c-9f9e-497c-827f-944f1834f428",
   "metadata": {},
   "source": [
    "## Importing Libraries ##"
   ]
  },
  {
   "cell_type": "code",
   "execution_count": 1,
   "id": "d3de8d1c-9c61-4fb2-bf51-75d9fb0fba94",
   "metadata": {},
   "outputs": [],
   "source": [
    "# import zipfile\n",
    "# import glob\n",
    "import os\n",
    "import numpy as np\n",
    "import torch \n",
    "import pandas as pd\n",
    "import cv2\n",
    "from PIL import Image\n",
    "import matplotlib.pyplot as plt\n",
    "import warnings"
   ]
  },
  {
   "cell_type": "markdown",
   "id": "96b92650-ead0-4834-b9aa-7ac656488be4",
   "metadata": {
    "tags": []
   },
   "source": [
    "## Unzipping Compressed File ##"
   ]
  },
  {
   "cell_type": "code",
   "execution_count": 2,
   "id": "295149ec-fe50-4a8d-a3fb-b9da97b95273",
   "metadata": {},
   "outputs": [],
   "source": [
    "# files = glob.glob('./*.zip')\n",
    "# files"
   ]
  },
  {
   "cell_type": "code",
   "execution_count": 3,
   "id": "013b9266-de9d-43f5-832a-5f97c302a443",
   "metadata": {},
   "outputs": [],
   "source": [
    "# for file in files:\n",
    "#     print('Unzipping', file)\n",
    "    \n",
    "#     with zipfile.ZipFile(file, 'r') as zip_ref:\n",
    "#         zip_ref.extractall('resize')"
   ]
  },
  {
   "cell_type": "markdown",
   "id": "3ce043d3-00a7-488f-bfaa-2108f90e6e20",
   "metadata": {},
   "source": [
    "## Grabbing all file paths ##"
   ]
  },
  {
   "cell_type": "code",
   "execution_count": 4,
   "id": "8ac1d909-d50d-406a-9585-3475f0855387",
   "metadata": {},
   "outputs": [],
   "source": [
    "path = './resize/resize_1024'"
   ]
  },
  {
   "cell_type": "code",
   "execution_count": 5,
   "id": "1c0e220f-9d34-4d05-8823-461c30b11871",
   "metadata": {
    "scrolled": true,
    "tags": []
   },
   "outputs": [],
   "source": [
    "img_paths = np.array(os.listdir(path))\n",
    "rand_paths = np.array(os.listdir(path))\n",
    "np.random.shuffle(rand_paths)"
   ]
  },
  {
   "cell_type": "code",
   "execution_count": 6,
   "id": "425022bd-0b56-4de1-9851-14e5931b155d",
   "metadata": {},
   "outputs": [
    {
     "name": "stdout",
     "output_type": "stream",
     "text": [
      "4320\n"
     ]
    }
   ],
   "source": [
    "pairs = []\n",
    "for i in range(len(img_paths)):\n",
    "    pairs.append((img_paths[i], rand_paths[i]))\n",
    "\n",
    "print(len(pairs))"
   ]
  },
  {
   "cell_type": "code",
   "execution_count": 7,
   "id": "6f2e6e52-be42-4917-8f2f-91b74c37bdc6",
   "metadata": {
    "tags": []
   },
   "outputs": [],
   "source": [
    "# for i in range(50):\n",
    "#     print(dg[i][1])"
   ]
  },
  {
   "cell_type": "markdown",
   "id": "99e0da9e-f2fa-45ee-9672-8c0aafd704d1",
   "metadata": {},
   "source": [
    "## Creating DataFrame ##"
   ]
  },
  {
   "cell_type": "code",
   "execution_count": 8,
   "id": "06874f00-0115-4dde-9cdf-71b58feae5ea",
   "metadata": {},
   "outputs": [
    {
     "data": {
      "text/html": [
       "<div>\n",
       "<style scoped>\n",
       "    .dataframe tbody tr th:only-of-type {\n",
       "        vertical-align: middle;\n",
       "    }\n",
       "\n",
       "    .dataframe tbody tr th {\n",
       "        vertical-align: top;\n",
       "    }\n",
       "\n",
       "    .dataframe thead th {\n",
       "        text-align: right;\n",
       "    }\n",
       "</style>\n",
       "<table border=\"1\" class=\"dataframe\">\n",
       "  <thead>\n",
       "    <tr style=\"text-align: right;\">\n",
       "      <th></th>\n",
       "      <th>mixed</th>\n",
       "      <th>pic1</th>\n",
       "      <th>pic2</th>\n",
       "    </tr>\n",
       "  </thead>\n",
       "  <tbody>\n",
       "  </tbody>\n",
       "</table>\n",
       "</div>"
      ],
      "text/plain": [
       "Empty DataFrame\n",
       "Columns: [mixed, pic1, pic2]\n",
       "Index: []"
      ]
     },
     "execution_count": 8,
     "metadata": {},
     "output_type": "execute_result"
    }
   ],
   "source": [
    "cols = ['mixed', 'pic1', 'pic2']\n",
    "df = pd.DataFrame(columns=cols)\n",
    "df.head()"
   ]
  },
  {
   "cell_type": "code",
   "execution_count": 9,
   "id": "e640158d-e480-4499-b370-e0d46b3d71da",
   "metadata": {},
   "outputs": [],
   "source": [
    "warnings.filterwarnings('ignore')"
   ]
  },
  {
   "cell_type": "code",
   "execution_count": 18,
   "id": "19f231d1-0b41-4b69-b9d9-ac409fe3067f",
   "metadata": {
    "scrolled": true,
    "tags": []
   },
   "outputs": [
    {
     "name": "stdout",
     "output_type": "stream",
     "text": [
      "Error\n"
     ]
    }
   ],
   "source": [
    "for x in range(0, len(pairs)):\n",
    "    img, random = pairs[x]\n",
    "    try:\n",
    "        img = cv2.imread(os.path.join(path, image))\n",
    "        img2 = cv2.imread(os.path.join(path, random))\n",
    "        gray = cv2.cvtColor(img, cv2.COLOR_RGB2GRAY)\n",
    "        gray2 = cv2.cvtColor(img2, cv2.COLOR_RGB2GRAY)\n",
    "\n",
    "        for i in range(len(gray)):\n",
    "            for j in range(len(gray[0])):\n",
    "                p = gray[i][j]\n",
    "                p2 = gray2[i][j]\n",
    "\n",
    "\n",
    "\n",
    "                #high\n",
    "                hp = p & 240\n",
    "                hp2 = p2 & 240\n",
    "\n",
    "                # dg[i][j] = hp\n",
    "                # dg2[i][j] = hp2\n",
    "\n",
    "                lp = hp >> 4\n",
    "                lp2 = hp2 >> 4\n",
    "\n",
    "\n",
    "                gray[i][j] = hp | lp2 # 1110000 | 11110000 -> 11110000 | 00001111\n",
    "                gray2[i][j] = hp2 | lp\n",
    "\n",
    "        m_path = './mixed/m_{}.jpeg'.format(x)\n",
    "        m2_path = './mixed/m2_{}.jpeg'.format(x)\n",
    "        cv2.imwrite(m_path, gray)\n",
    "        cv2.imwrite(m2_path, gray2)\n",
    "        df = df.append({\"mixed\": 'm_{}.jpeg'.format(x), \"pic1\" : image, \"pic2\" : random}, ignore_index = True)\n",
    "        df = df.append({\"mixed\": 'm2_{}.jpeg'.format(x),\"pic1\" : random, \"pic2\" : image}, ignore_index = True)\n",
    "    \n",
    "    except:\n",
    "        print(\"Error\")"
   ]
  },
  {
   "cell_type": "code",
   "execution_count": 19,
   "id": "168943f9-f0a3-4875-9267-075a6246a035",
   "metadata": {},
   "outputs": [
    {
     "data": {
      "text/html": [
       "<div>\n",
       "<style scoped>\n",
       "    .dataframe tbody tr th:only-of-type {\n",
       "        vertical-align: middle;\n",
       "    }\n",
       "\n",
       "    .dataframe tbody tr th {\n",
       "        vertical-align: top;\n",
       "    }\n",
       "\n",
       "    .dataframe thead th {\n",
       "        text-align: right;\n",
       "    }\n",
       "</style>\n",
       "<table border=\"1\" class=\"dataframe\">\n",
       "  <thead>\n",
       "    <tr style=\"text-align: right;\">\n",
       "      <th></th>\n",
       "      <th>mixed</th>\n",
       "      <th>pic1</th>\n",
       "      <th>pic2</th>\n",
       "    </tr>\n",
       "  </thead>\n",
       "  <tbody>\n",
       "    <tr>\n",
       "      <th>0</th>\n",
       "      <td>m_1.jpeg</td>\n",
       "      <td>img_1977.jpeg</td>\n",
       "      <td>img_488.jpeg</td>\n",
       "    </tr>\n",
       "    <tr>\n",
       "      <th>1</th>\n",
       "      <td>m2_1.jpeg</td>\n",
       "      <td>img_488.jpeg</td>\n",
       "      <td>img_1977.jpeg</td>\n",
       "    </tr>\n",
       "    <tr>\n",
       "      <th>2</th>\n",
       "      <td>m_0.jpeg</td>\n",
       "      <td>img_1977.jpeg</td>\n",
       "      <td>img_488.jpeg</td>\n",
       "    </tr>\n",
       "    <tr>\n",
       "      <th>3</th>\n",
       "      <td>m2_0.jpeg</td>\n",
       "      <td>img_488.jpeg</td>\n",
       "      <td>img_1977.jpeg</td>\n",
       "    </tr>\n",
       "    <tr>\n",
       "      <th>4</th>\n",
       "      <td>m_1.jpeg</td>\n",
       "      <td>img_1977.jpeg</td>\n",
       "      <td>img_1358.jpeg</td>\n",
       "    </tr>\n",
       "  </tbody>\n",
       "</table>\n",
       "</div>"
      ],
      "text/plain": [
       "       mixed           pic1           pic2\n",
       "0   m_1.jpeg  img_1977.jpeg   img_488.jpeg\n",
       "1  m2_1.jpeg   img_488.jpeg  img_1977.jpeg\n",
       "2   m_0.jpeg  img_1977.jpeg   img_488.jpeg\n",
       "3  m2_0.jpeg   img_488.jpeg  img_1977.jpeg\n",
       "4   m_1.jpeg  img_1977.jpeg  img_1358.jpeg"
      ]
     },
     "execution_count": 19,
     "metadata": {},
     "output_type": "execute_result"
    }
   ],
   "source": [
    "df.head()"
   ]
  },
  {
   "cell_type": "code",
   "execution_count": 20,
   "id": "d80cb924-ad4f-424f-aac6-198abde6c99f",
   "metadata": {},
   "outputs": [],
   "source": [
    "# df2 = pd.read_csv('./image_paths.csv')"
   ]
  },
  {
   "cell_type": "code",
   "execution_count": 21,
   "id": "e8a99bb2-8b25-4feb-a889-7d22d5f53145",
   "metadata": {},
   "outputs": [],
   "source": [
    "# df2.head()"
   ]
  },
  {
   "cell_type": "code",
   "execution_count": 22,
   "id": "c5943268-d474-439b-a62f-a217a41115a4",
   "metadata": {
    "tags": []
   },
   "outputs": [],
   "source": [
    "# df2 = df2.drop(columns = ['Unnamed: 0'])\n",
    "# df2.head()"
   ]
  },
  {
   "cell_type": "code",
   "execution_count": 23,
   "id": "771bdcb8-0604-47ec-b8b1-532d7f609e21",
   "metadata": {},
   "outputs": [],
   "source": [
    "# df = pd.concat([df, df2])\n",
    "# df.head()"
   ]
  },
  {
   "cell_type": "code",
   "execution_count": 24,
   "id": "065af567-0a1f-4ed1-b506-b90d06dab0d9",
   "metadata": {},
   "outputs": [],
   "source": [
    "# len(df)"
   ]
  },
  {
   "cell_type": "code",
   "execution_count": 25,
   "id": "63e14a87-e3bd-45f5-984c-1da92a77f682",
   "metadata": {},
   "outputs": [],
   "source": [
    "df.to_csv('image_paths.csv')"
   ]
  },
  {
   "cell_type": "code",
   "execution_count": 26,
   "id": "d7d21c4f-ff3e-4930-b3af-5cffd4563828",
   "metadata": {},
   "outputs": [
    {
     "data": {
      "text/html": [
       "<div>\n",
       "<style scoped>\n",
       "    .dataframe tbody tr th:only-of-type {\n",
       "        vertical-align: middle;\n",
       "    }\n",
       "\n",
       "    .dataframe tbody tr th {\n",
       "        vertical-align: top;\n",
       "    }\n",
       "\n",
       "    .dataframe thead th {\n",
       "        text-align: right;\n",
       "    }\n",
       "</style>\n",
       "<table border=\"1\" class=\"dataframe\">\n",
       "  <thead>\n",
       "    <tr style=\"text-align: right;\">\n",
       "      <th></th>\n",
       "      <th>mixed</th>\n",
       "      <th>pic1</th>\n",
       "      <th>pic2</th>\n",
       "    </tr>\n",
       "  </thead>\n",
       "  <tbody>\n",
       "    <tr>\n",
       "      <th>0</th>\n",
       "      <td>m_1.jpeg</td>\n",
       "      <td>img_1977.jpeg</td>\n",
       "      <td>img_488.jpeg</td>\n",
       "    </tr>\n",
       "    <tr>\n",
       "      <th>1</th>\n",
       "      <td>m2_1.jpeg</td>\n",
       "      <td>img_488.jpeg</td>\n",
       "      <td>img_1977.jpeg</td>\n",
       "    </tr>\n",
       "    <tr>\n",
       "      <th>2</th>\n",
       "      <td>m_0.jpeg</td>\n",
       "      <td>img_1977.jpeg</td>\n",
       "      <td>img_488.jpeg</td>\n",
       "    </tr>\n",
       "    <tr>\n",
       "      <th>3</th>\n",
       "      <td>m2_0.jpeg</td>\n",
       "      <td>img_488.jpeg</td>\n",
       "      <td>img_1977.jpeg</td>\n",
       "    </tr>\n",
       "    <tr>\n",
       "      <th>4</th>\n",
       "      <td>m_1.jpeg</td>\n",
       "      <td>img_1977.jpeg</td>\n",
       "      <td>img_1358.jpeg</td>\n",
       "    </tr>\n",
       "  </tbody>\n",
       "</table>\n",
       "</div>"
      ],
      "text/plain": [
       "       mixed           pic1           pic2\n",
       "0   m_1.jpeg  img_1977.jpeg   img_488.jpeg\n",
       "1  m2_1.jpeg   img_488.jpeg  img_1977.jpeg\n",
       "2   m_0.jpeg  img_1977.jpeg   img_488.jpeg\n",
       "3  m2_0.jpeg   img_488.jpeg  img_1977.jpeg\n",
       "4   m_1.jpeg  img_1977.jpeg  img_1358.jpeg"
      ]
     },
     "execution_count": 26,
     "metadata": {},
     "output_type": "execute_result"
    }
   ],
   "source": [
    "df.head()"
   ]
  },
  {
   "cell_type": "markdown",
   "id": "22b39947-7b55-4432-842a-da31a9789e59",
   "metadata": {},
   "source": [
    "## Scratch Space ##"
   ]
  },
  {
   "cell_type": "code",
   "execution_count": 40,
   "id": "6e4d3fba-68dc-433b-8f07-d0c0c8c4dd3f",
   "metadata": {},
   "outputs": [
    {
     "name": "stdout",
     "output_type": "stream",
     "text": [
      "203 221\n"
     ]
    }
   ],
   "source": [
    "s = '11001011'\n",
    "s2 = '11011101'\n",
    "print(int(s,2), int(s2, 2))"
   ]
  },
  {
   "cell_type": "code",
   "execution_count": null,
   "id": "a17691c3-dde4-4d04-81f0-cc543f983baf",
   "metadata": {},
   "outputs": [],
   "source": []
  },
  {
   "cell_type": "code",
   "execution_count": null,
   "id": "0990840a-12d1-4c57-b156-9feab2d457c8",
   "metadata": {},
   "outputs": [],
   "source": [
    "# print(gray), print(gray2), print(dg), print(dg2)"
   ]
  },
  {
   "cell_type": "code",
   "execution_count": 17,
   "id": "d2d12cd2-0d82-49ca-bd90-130a31b2b380",
   "metadata": {},
   "outputs": [],
   "source": [
    "img = cv2.imread(os.path.join(path, image))\n",
    "img2 = cv2.imread(os.path.join(path, random))\n",
    "gray = cv2.cvtColor(img, cv2.COLOR_RGB2GRAY)\n",
    "gray2 = cv2.cvtColor(img2, cv2.COLOR_RGB2GRAY)\n",
    "\n",
    "for i in range(len(gray)):\n",
    "    for j in range(len(gray[0])):\n",
    "        p = gray[i][j]\n",
    "        p2 = gray2[i][j]\n",
    "        \n",
    "        \n",
    "        \n",
    "        #high\n",
    "        hp = p & 240\n",
    "        hp2 = p2 & 240\n",
    "        \n",
    "        # dg[i][j] = hp\n",
    "        # dg2[i][j] = hp2\n",
    "        \n",
    "        lp = hp >> 4\n",
    "        lp2 = hp2 >> 4\n",
    "        \n",
    "        \n",
    "        gray[i][j] = hp | lp2 # 1110000 | 11110000 -> 11110000 | 00001111\n",
    "        gray2[i][j] = hp2 | lp\n",
    "        \n",
    "        \n",
    "m_path = './mixed/m_1.jpeg'.format(i+j)\n",
    "m2_path = './mixed/m2_1.jpeg'.format(i+j)\n",
    "cv2.imwrite(m_path, gray)\n",
    "cv2.imwrite(m2_path, gray2)\n",
    "df = df.append({\"mixed\": 'm_1.jpeg'.format(i+j), \"pic1\" : image, \"pic2\" : random}, ignore_index = True)\n",
    "df = df.append({\"mixed\": 'm2_1.jpeg'.format(i+j),\"pic1\" : random, \"pic2\" : image}, ignore_index = True)"
   ]
  },
  {
   "cell_type": "code",
   "execution_count": 15,
   "id": "1525b5ed-9d0c-4ea3-9558-f29fbd8e1408",
   "metadata": {
    "collapsed": true,
    "jupyter": {
     "outputs_hidden": true
    },
    "tags": []
   },
   "outputs": [
    {
     "data": {
      "image/png": "[encoded data removed]",
      "text/plain": [
       "<Figure size 1440x1008 with 2 Axes>"
      ]
     },
     "metadata": {
      "needs_background": "light"
     },
     "output_type": "display_data"
    }
   ],
   "source": [
    "image, random = pairs[0]\n",
    "\n",
    "img = cv2.imread(os.path.join(path, image))\n",
    "img2 = cv2.imread(os.path.join(path, random))\n",
    "gray = cv2.cvtColor(img, cv2.COLOR_RGB2GRAY)\n",
    "gray2 = cv2.cvtColor(img2, cv2.COLOR_RGB2GRAY)\n",
    "\n",
    "# print(gray)\n",
    "\n",
    "## Next step checking deconstructed gray images \n",
    "# dg = np.zeros(shape = (1024, 1024))\n",
    "# dg2 = np.zeros(shape = (1024, 1024))\n",
    "\n",
    "\n",
    "fig = plt.figure(figsize = (20, 14))\n",
    "plt.subplot(3, 2, 1)\n",
    "plt.imshow(gray, cmap = 'gray')\n",
    "plt.title(\"Original 1\")\n",
    "plt.axis('off')\n",
    "\n",
    "plt.subplot(3, 2, 2)\n",
    "plt.imshow(gray2, cmap = 'gray')\n",
    "plt.title(\"Original 2\")\n",
    "plt.axis('off')\n",
    "\n",
    "for i in range(len(gray)):\n",
    "    for j in range(len(gray[0])):\n",
    "        p = gray[i][j]\n",
    "        p2 = gray2[i][j]\n",
    "        \n",
    "        \n",
    "        \n",
    "        #high\n",
    "        hp = p & 240\n",
    "        hp2 = p2 & 240\n",
    "        \n",
    "        # dg[i][j] = hp\n",
    "        # dg2[i][j] = hp2\n",
    "        \n",
    "        lp = hp >> 4\n",
    "        lp2 = hp2 >> 4\n",
    "        \n",
    "        \n",
    "        gray[i][j] = hp | lp2 # 1110000 | 11110000 -> 11110000 | 00001111\n",
    "        gray2[i][j] = hp2 | lp\n",
    "        \n",
    "        \n",
    "        \n",
    "            \n",
    "        \n",
    "# plt.subplot(3, 2, 3)\n",
    "# plt.imshow(dg, cmap = 'gray')\n",
    "# plt.title('Deconstructed 1')\n",
    "# plt.axis('off')\n",
    "\n",
    "# plt.subplot(3, 2, 4)\n",
    "# plt.imshow(dg2, cmap = 'gray')\n",
    "# plt.title('Deconstructed 2')\n",
    "# plt.axis('off')\n",
    "\n",
    "\n",
    "# plt.subplot(3, 2, 5)\n",
    "# plt.imshow(gray, cmap = 'gray')\n",
    "# plt.title('Pic 2 infused into Pic1')\n",
    "# plt.axis('off')\n",
    "\n",
    "# plt.subplot(3, 2, 6)\n",
    "# plt.imshow(gray2, cmap = 'gray')\n",
    "# plt.title('Pic1 infused into Pic2')\n",
    "# plt.axis('off')\n",
    "# plt.show()\n"
   ]
  },
  {
   "cell_type": "code",
   "execution_count": null,
   "id": "32e2994c-f0da-4e78-b101-d1a56f07d144",
   "metadata": {},
   "outputs": [],
   "source": []
  }
 ],
 "metadata": {
  "kernelspec": {
   "display_name": "Python 3 (ipykernel)",
   "language": "python",
   "name": "python3"
  },
  "language_info": {
   "codemirror_mode": {
    "name": "ipython",
    "version": 3
   },
   "file_extension": ".py",
   "mimetype": "text/x-python",
   "name": "python",
   "nbconvert_exporter": "python",
   "pygments_lexer": "ipython3",
   "version": "3.9.13"
  }
 },
 "nbformat": 4,
 "nbformat_minor": 5
}
